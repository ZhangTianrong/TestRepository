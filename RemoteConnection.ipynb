{
  "nbformat": 4,
  "nbformat_minor": 0,
  "metadata": {
    "colab": {
      "name": "RemoteConnection.ipynb",
      "provenance": [],
      "collapsed_sections": [],
      "toc_visible": true
    },
    "kernelspec": {
      "name": "python3",
      "display_name": "Python 3"
    },
    "accelerator": "GPU"
  },
  "cells": [
    {
      "cell_type": "markdown",
      "metadata": {
        "id": "42dTg678QvQt"
      },
      "source": [
        "# CoLab Download Utilities\r\n",
        "\r\n",
        "Useful scripts for using CoLab as a remote dowwnloader"
      ]
    },
    {
      "cell_type": "markdown",
      "metadata": {
        "id": "sgKcr8wakb8Q"
      },
      "source": [
        "# Setting up SSH\r\n",
        "\r\n",
        "You will be given almost all permissions in the VM including installing programs, starting services, etc. Some functionalities are forbidden e.g. iptables. However, it is not a practice of honor to take advantage of a free scientific computing platform to download unrelevent things in the first place, so it is not recommanded to actively exploit it in the way of a VPS. After all we don't want to push too far to Google's limit which could be responded with a strict ban."
      ]
    },
    {
      "cell_type": "code",
      "metadata": {
        "id": "5Rudxay7R1cG",
        "cellView": "form"
      },
      "source": [
        "#@title Using Ngrok\n",
        "\n",
        "#@markdown Resubmit the code if there is an error. However, if the code runs\n",
        "#@markdown properly but you still cannot establish an SSH connection (e.g. `Connection closed by remote host`, \n",
        "#@markdown see more in \n",
        "#@markdown [this issue](https://github.com/WassimBenzarti/colab-ssh/issues/45)), \n",
        "#@markdown please go to next section and use Cloudflared instead.\n",
        "\n",
        "#@markdown Please enter a password below, this will be used to log in.\n",
        "\n",
        "##############################################\n",
        "## Code for setting up SSH server on the VM ##\n",
        "##############################################\n",
        "\n",
        "import urllib.request, json, getpass\n",
        "\n",
        "password = \"passwd\" #@param {type:\"string\"}\n",
        "\n",
        "# Download ngrok\n",
        "! wget -q -c -nc https://bin.equinox.io/c/4VmDzA7iaHb/ngrok-stable-linux-amd64.zip\n",
        "! unzip -qq -n ngrok-stable-linux-amd64.zip\n",
        "\n",
        "# Setup sshd\n",
        "! apt-get install -qq -o=Dpkg::Use-Pty=0 openssh-server pwgen > /dev/null\n",
        "\n",
        "# Set root password\n",
        "! echo root:$password | chpasswd\n",
        "! mkdir -p /var/run/sshd\n",
        "! echo \"PermitRootLogin yes\" >> /etc/ssh/sshd_config\n",
        "! echo \"PasswordAuthentication yes\" >> /etc/ssh/sshd_config\n",
        "! echo \"LD_LIBRARY_PATH=/usr/lib64-nvidia\" >> /root/.bashrc\n",
        "! echo \"export LD_LIBRARY_PATH\" >> /root/.bashrc\n",
        "\n",
        "# Run sshd\n",
        "get_ipython().system_raw('/usr/sbin/sshd -D &')\n",
        "\n",
        "# Ask token\n",
        "print(\"Copy authtoken from https://dashboard.ngrok.com/auth\")\n",
        "authtoken = getpass.getpass()\n",
        "\n",
        "# Create tunnel\n",
        "get_ipython().system_raw('./ngrok authtoken $authtoken && ./ngrok tcp 22 &')\n",
        "\n",
        "# Get public address and print connect command\n",
        "with urllib.request.urlopen('http://localhost:4040/api/tunnels') as response:\n",
        "  data = json.loads(response.read().decode())\n",
        "  (host, port) = data['tunnels'][0]['public_url'][6:].split(':')\n",
        "  print(f'SSH command: ssh -p{port} root@{host}')\n",
        "\n",
        "# Print root password\n",
        "print(f'Root password: {password}')"
      ],
      "execution_count": null,
      "outputs": []
    },
    {
      "cell_type": "code",
      "metadata": {
        "cellView": "form",
        "id": "Dh9MCVhWlY-z"
      },
      "source": [
        "#@title Using Cloudflared\r\n",
        "#@markdown Follow the instructions shown to install Cloudflared if you haven't.\r\n",
        "\r\n",
        "# Install colab_ssh on google colab\r\n",
        "!pip install colab_ssh --upgrade\r\n",
        "\r\n",
        "password = \"passwd\" #@param {type:\"string\"}\r\n",
        "\r\n",
        "from colab_ssh import launch_ssh_cloudflared, init_git_cloudflared\r\n",
        "launch_ssh_cloudflared(password)\r\n",
        "\r\n",
        "#@markdown The credit goes to \r\n",
        "#@markdown [`colab-ssh`](https://github.com/WassimBenzarti/colab-ssh). They also \r\n",
        "#@markdown provide a method to do port forwarding using Ngrok. If you prefer,\r\n",
        "#@markdown you can uncomment the corresponding snipite in the previous section. \r\n",
        "\r\n",
        "print(f'Root password: {password}')"
      ],
      "execution_count": null,
      "outputs": []
    },
    {
      "cell_type": "markdown",
      "metadata": {
        "id": "WAHfcl_Cn6Bm"
      },
      "source": [
        "# Mount Drive"
      ]
    },
    {
      "cell_type": "code",
      "metadata": {
        "id": "mSC4s45K85OS",
        "cellView": "form"
      },
      "source": [
        "#@title Google Drive\n",
        "\n",
        "#@markdown Mount Google Drive using the official `colabtool` package.\n",
        "\n",
        "####################################\n",
        "## Mount Google Drive to CoLab VM ##\n",
        "####################################\n",
        "\n",
        "import os\n",
        "from google.colab import drive  \n",
        "      # Load the Drive helper and mount\n",
        "\n",
        "mountpoint = \"/content/drive\" #@param {type:\"string\"}\n",
        "\n",
        "if not os.path.isdir(os.path.join(mountpoint, 'My Drive')):\n",
        "  drive.mount(mountpoint, force_remount=True)\n"
      ],
      "execution_count": null,
      "outputs": []
    },
    {
      "cell_type": "code",
      "metadata": {
        "id": "d4FYZlnj3lr-",
        "cellView": "form"
      },
      "source": [
        "#@title Flush and remount Google Drive\r\n",
        "\r\n",
        "#######################################\r\n",
        "## Manually sync VM and Google Drive ##\r\n",
        "#######################################\r\n",
        "\r\n",
        "#@markdown This is often used to make sure all modification done in CoLab have \r\n",
        "#@markdown been updated to the Google drive. In this case, check the remount\r\n",
        "#@markdown below. If you only want to umount and have a clean exit, leave it\r\n",
        "#@markdown unchecked.\r\n",
        "\r\n",
        "remount = True #@param{type:\"boolean\"}\r\n",
        "\r\n",
        "drive.flush_and_unmount()\r\n",
        "print('All changes made in this colab session should now be visible in Drive.')\r\n",
        "if remount:\r\n",
        "  drive.mount(mountpoint, force_remount=True)"
      ],
      "execution_count": null,
      "outputs": []
    },
    {
      "cell_type": "code",
      "metadata": {
        "cellView": "form",
        "id": "p0IIUq4Urfq-"
      },
      "source": [
        "#@title Using rClone\r\n",
        "\r\n",
        "#@markdown It's also possible to mount other cloud storage with \r\n",
        "#@markdown [rClone](https://rclone.org/). It is recommended to configure the\r\n",
        "#@markdown the remotes locally and upload the config file. You will be prompt\r\n",
        "#@markdown to upload a file if the path cannot be found.\r\n",
        "\r\n",
        "# Installing rClone\r\n",
        "#!curl https://rclone.org/install.sh | sudo bash\r\n",
        "!command -v rclone >/dev/null 2>&1 || { curl https://rclone.org/install.sh | sudo bash;}\r\n",
        "\r\n",
        "path2config = \"/content/rclone.conf\" #@param {type:\"string\"}\r\n",
        "\r\n",
        "if not os.path.exists(path2config):\r\n",
        "  from google.colab import files\r\n",
        "  uploaded = files.upload()\r\n",
        "  path2config = \"/content/\" + list(uploaded.keys())[0]\r\n",
        "\r\n",
        "#@markdown Enter the name of the remote and the corresponding folder to mount.\r\n",
        "\r\n",
        "remote = \"Union\" #@param {type:\"string\"}\r\n",
        "remote_path = \" \" #@param {type:\"string\"}\r\n",
        "\r\n",
        "remote = remote.strip()\r\n",
        "remote_path = remote_path.strip()\r\n",
        "\r\n",
        "#@markdown Enter a mountpoint\r\n",
        "\r\n",
        "import os\r\n",
        "mountpoint_rclone = \"/content/rclone\" #@param (type:\"string\")\r\n",
        "\r\n",
        "##markdown Enter a path to mount\r\n",
        "\r\n",
        "# rClone mount\r\n",
        "!mkdir -p \"$mountpoint_rclone\"\r\n",
        "!rclone about $remote: --config \"$path2config\"\r\n",
        "\r\n",
        "!nohup rclone mount $remote:\"$remote_path\" \"$mountpoint_rclone\" --vfs-cache-mode writes --config \"$path2config\" --rc &"
      ],
      "execution_count": null,
      "outputs": []
    },
    {
      "cell_type": "code",
      "metadata": {
        "id": "w16LRH-b4oG_",
        "cellView": "form"
      },
      "source": [
        "#@title Exit rClone\r\n",
        "\r\n",
        "#@markdown It is recommanded to manually quite the running rClone. Run this cell\r\n",
        "#@markdown to umount. Note that according to the rClone\r\n",
        "#@markdown [documentation](https://rclone.org/commands/rclone_mount/)\r\n",
        "#@markdown > The umount operation can fail, for example when the mountpoint is\r\n",
        "#@markdown busy. When that happens, it is the user's responsibility to stop the \r\n",
        "#@markdown mount manually.\r\n",
        "#@markdown >\r\n",
        "#@markdown > Stopping the mount manually:\r\n",
        "#@markdown >\r\n",
        "#@markdown > ```\r\n",
        "#@markdown > fusermount -u /path/to/local/mount\r\n",
        "#@markdown > ```\r\n",
        "\r\n",
        "!rclone rc core/quit"
      ],
      "execution_count": null,
      "outputs": []
    },
    {
      "cell_type": "markdown",
      "metadata": {
        "id": "Pv_qbk9fAKDS"
      },
      "source": [
        "### Umount manually if needed"
      ]
    },
    {
      "cell_type": "code",
      "metadata": {
        "id": "m0zPqT_C_EIl"
      },
      "source": [
        "!fusermount -u $mountpoint_rclone"
      ],
      "execution_count": null,
      "outputs": []
    },
    {
      "cell_type": "markdown",
      "metadata": {
        "id": "7CegTQXxrYr1"
      },
      "source": [
        "# Set up Downloader"
      ]
    },
    {
      "cell_type": "code",
      "metadata": {
        "id": "YMN0pjCHyBVl",
        "cellView": "form"
      },
      "source": [
        "#@title Install aria2\r\n",
        "\r\n",
        "#@markdown If the installation is successful, the code here will also downloads \r\n",
        "#@markdown a list of quality BT trackers from \r\n",
        "#@markdown [here](https://github.com/ngosang/trackerslist). This can be helpful\r\n",
        "#@markdown when downloading torrents or megnetic links.\r\n",
        "\r\n",
        "#####################################\r\n",
        "## Install aria2 as the downloader ##\r\n",
        "#####################################\r\n",
        "\r\n",
        "## There are notebooks shared all over the internect that uses libtorrent in\r\n",
        "## python, but why bother when you can set up a full function downloader? In\r\n",
        "## this way, you can plug in the aria2 commands just like what you did in your\r\n",
        "## local machine.\r\n",
        "\r\n",
        "! sudo apt install aria2 > /dev/null\r\n",
        "! cd /content && aria2c https://raw.githubusercontent.com/ngosang/trackerslist/master/trackers_best_ip.txt -o tracker --allow-overwrite=\"true\" -q"
      ],
      "execution_count": null,
      "outputs": []
    },
    {
      "cell_type": "code",
      "metadata": {
        "id": "iTH0ziAHQfxb",
        "cellView": "form"
      },
      "source": [
        "#@title Download from link\r\n",
        "\r\n",
        "#@markdown You will be prompted to enter links to download. Note that you will\r\n",
        "#@markdown not be able to run other codes on this CoLab instance through\r\n",
        "#@markdown notebook before the download stops. If this is a concern, please\r\n",
        "#@markdown consider set up RPC in the next session.\r\n",
        "\r\n",
        "#####################################\r\n",
        "## Enter the link to be downloaded ##\r\n",
        "#####################################\r\n",
        "\r\n",
        "with open(\"/content/download_list\", \"w+\") as f:\r\n",
        "  while True:\r\n",
        "      magnet_link = input(\"Enter Link Or Type Exit: \")\r\n",
        "      if magnet_link.lower() == \"exit\":\r\n",
        "          break\r\n",
        "      print(magnet_link, end=\"\\n\\n\", file=f)\r\n",
        "\r\n",
        "! cd \"/content/drive/MyDrive/CoLab Download/Torrent\" && aria2c --bt-tracker=$(sed ':a;N;$!ba;s/\\n\\n/,/g' /content/tracker) --bt-enable-lpd=true --disable-ipv6 --seed-time=0 --file-allocation=none --console-log-level=warn -i /content/download_list    "
      ],
      "execution_count": null,
      "outputs": []
    },
    {
      "cell_type": "code",
      "metadata": {
        "id": "7gLwDhvlXIt-"
      },
      "source": [
        "#@title Set up aria2 RPC\r\n",
        "\r\n",
        "#@markdown This will set up the portmap daemon and so that you can control the \r\n",
        "#@markdown download through a web UI like \r\n",
        "#@markdown [AriaNg](http://ariang.mayswind.net/latest/) with the address\r\n",
        "#@markdown `http://localhost:6800/jsonrpc` and the password you set below.\r\n",
        "\r\n",
        "####################\r\n",
        "## Setting up RPC ##\r\n",
        "####################\r\n",
        "\r\n",
        "rpc_secret = \"passwd\" #@param{type:\"string\"}\r\n",
        "\r\n",
        "# For more complex download tasks like transfering data drom Onedrive to Google\r\n",
        "# drive, It is recommended to use the RPC deamon and ariang web UI which make\r\n",
        "# configuration a lot easier.\r\n",
        "\r\n",
        "!aria2c --enable-rpc --rpc-listen-all -d /content/drive/MyDrive/Downloads/ --disable-ipv6 --rpc-secret=$rpc_secret --max-concurrent-downloads=10 --max-connection-per-server=10 --min-split-size=10M --split=5  --bt-tracker=$(sed ':a;N;$!ba;s/\\n\\n/,/g' /content/tracker) --bt-enable-lpd=true --rpc-allow-origin-all --file-allocation=none --seed-time=300 -D\r\n",
        "#print(\"Please connect to the VM through the following command:\")\r\n",
        "#print(f'ssh \"{host}\" -p \"{port}\" -L 8080:localhost:80 -L 6800:localhost:6800 -l \"root\"')\r\n",
        "#print(f'Root password: {password}')\r\n",
        "\r\n",
        "#@markdown To forward the corresponding port in your local machine to the CoLab\r\n",
        "#@markdown instance, you need to append the command you used for SSH with\r\n",
        "#@markdown `-L 8080:localhost:80 -L 6800:localhost:6800`. Remember not to close\r\n",
        "#@markdown the window so that the connection can be kepy alive.\r\n",
        "\r\n",
        "#@markdown Browser extensions like [Aria2 for Chrome](https://chrome.google.com/webstore/detail/aria2-for-chrome/mpkodccbngfoacfalldjimigbofkhgjn)\r\n",
        "#@markdown and [Aria2 for Edge](https://microsoftedge.microsoft.com/addons/detail/aria2-for-edge/jjfgljkjddpcpfapejfkelkbjbehagbh) can be helpful\r\n",
        "#@markdown when your downloads is initiated from browser. The Edge version seems\r\n",
        "#@markdown better at catching request header so that you can download from sites\r\n",
        "#@markdown like OneDrive withough manually feed in the cookies."
      ],
      "execution_count": null,
      "outputs": []
    },
    {
      "cell_type": "code",
      "metadata": {
        "id": "pa_Qo4Tr1IxQ",
        "cellView": "form"
      },
      "source": [
        "#@title Peek at downloaded videos\r\n",
        "\r\n",
        "#@markdown If you want, you can view a clip of the downloaded video even if it\r\n",
        "#@markdown has't been synced to cloud. Note that this will use `ffmpeg` to \r\n",
        "#@markdown transcode a clip of the file into HTML version and the process can be\r\n",
        "#@markdown very time consuming. This piecec of code was for debugging use and a\r\n",
        "#@markdown more practical way would be to flush and umount the drive and check\r\n",
        "#@markdown the content through rClone, RaiDrive or whatever (the web interface\r\n",
        "#@markdown will not be up untill Google \"processed\" your video).\r\n",
        "\r\n",
        "###########################\r\n",
        "## Peek downloaded video ##\r\n",
        "###########################\r\n",
        "\r\n",
        "## The syncing process between CoLab and Google Drive can be time-consuming and\r\n",
        "## you would want to peek into the download file to see if it contains the right\r\n",
        "## content. \r\n",
        "\r\n",
        "from IPython.display import HTML\r\n",
        "from base64 import b64encode\r\n",
        "import os\r\n",
        "\r\n",
        "# Input video path\r\n",
        "save_path = input(\"Enter the path to the file to peek (you can find it in the left penel): \")\r\n",
        "\r\n",
        "# Compressed video path\r\n",
        "compressed_path = \"/content/result_compressed.mp4\"\r\n",
        "\r\n",
        "# It is necessary to extract only a short clip and encod it into mp4 before it\r\n",
        "# can be \r\n",
        "os.system(f\"ffmpeg -i {save_path} -ss 00:00:30 -to 00:01:00 -strict -2 -vcodec libx264 -acodec copy {compressed_path}\")\r\n",
        "print(\"Compression finished\")\r\n",
        "\r\n",
        "# Show video\r\n",
        "print(r\"If no video shown. Please download /content/result_compressed.mp4 \" + \r\n",
        "      \"from the left panel and verify it locally.\")\r\n",
        "mp4 = open(compressed_path,'rb').read()\r\n",
        "data_url = \"data:video/mp4;base64,\" + b64encode(mp4).decode()\r\n",
        "HTML(\"\"\"\r\n",
        "<video width=400 controls>\r\n",
        "      <source src=\"%s\" type=\"video/mp4\">\r\n",
        "</video>\r\n",
        "\"\"\" % data_url)"
      ],
      "execution_count": null,
      "outputs": []
    }
  ]
}