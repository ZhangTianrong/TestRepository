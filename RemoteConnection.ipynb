{
  "nbformat": 4,
  "nbformat_minor": 0,
  "metadata": {
    "colab": {
      "name": "RemoteConnection.ipynb",
      "provenance": [],
      "collapsed_sections": [],
      "toc_visible": true
    },
    "kernelspec": {
      "name": "python3",
      "display_name": "Python 3"
    },
    "accelerator": "GPU"
  },
  "cells": [
    {
      "cell_type": "markdown",
      "metadata": {
        "id": "42dTg678QvQt"
      },
      "source": [
        "# CoLab Download Utilities\r\n",
        "\r\n",
        "Useful scripts for using CoLab as a remote dowwnloader"
      ]
    },
    {
      "cell_type": "code",
      "metadata": {
        "id": "5Rudxay7R1cG"
      },
      "source": [
        "##############################################\n",
        "## Code for setting up SSH server on the VM ##\n",
        "##############################################\n",
        "\n",
        "## You will be given almost all permissions in the VM including installing\n",
        "## programs, starting services, etc. Some functionalities are forbidden e.g.\n",
        "## iptables. However, it is not a practice of honor to take advantage of a free\n",
        "## scientific computing platform to download unrelevent in the first place, so\n",
        "## it is not recommanded to actively exploit it in the way of a VPS. After all\n",
        "## we don't want to push too far to Google's limit which could be responded\n",
        "## with a strict ban.\n",
        "\n",
        "import random, string, urllib.request, json, getpass\n",
        "\n",
        "# Generate root password\n",
        "password = ''.join(random.choice(string.ascii_letters + string.digits) for i in range(20))\n",
        "\n",
        "# Download ngrok\n",
        "! wget -q -c -nc https://bin.equinox.io/c/4VmDzA7iaHb/ngrok-stable-linux-amd64.zip\n",
        "! unzip -qq -n ngrok-stable-linux-amd64.zip\n",
        "\n",
        "# Setup sshd\n",
        "! apt-get install -qq -o=Dpkg::Use-Pty=0 openssh-server pwgen > /dev/null\n",
        "\n",
        "# Set root password\n",
        "! echo root:$password | chpasswd\n",
        "! mkdir -p /var/run/sshd\n",
        "! echo \"PermitRootLogin yes\" >> /etc/ssh/sshd_config\n",
        "! echo \"PasswordAuthentication yes\" >> /etc/ssh/sshd_config\n",
        "! echo \"LD_LIBRARY_PATH=/usr/lib64-nvidia\" >> /root/.bashrc\n",
        "! echo \"export LD_LIBRARY_PATH\" >> /root/.bashrc\n",
        "\n",
        "# Add X11 forwarding support\n",
        "! echo \"X11Forwarding yes\" >> /etc/ssh/sshd_config\n",
        "! echo \"X11UseLocalhost no\" >> /etc/ssh/sshd_config\n",
        "\n",
        "# Run sshd\n",
        "get_ipython().system_raw('/usr/sbin/sshd -D &')\n",
        "\n",
        "# Ask token\n",
        "print(\"Copy authtoken from https://dashboard.ngrok.com/auth\")\n",
        "authtoken = getpass.getpass()\n",
        "\n",
        "# Create tunnel\n",
        "get_ipython().system_raw('./ngrok authtoken $authtoken && ./ngrok tcp 22 &')\n",
        "\n",
        "# Get public address and print connect command\n",
        "with urllib.request.urlopen('http://localhost:4040/api/tunnels') as response:\n",
        "  data = json.loads(response.read().decode())\n",
        "  (host, port) = data['tunnels'][0]['public_url'][6:].split(':')\n",
        "  print(f'SSH command: ssh -p{port} root@{host}')\n",
        "\n",
        "# Print root password\n",
        "print(f'Root password: {password}')"
      ],
      "execution_count": null,
      "outputs": []
    },
    {
      "cell_type": "code",
      "metadata": {
        "id": "mSC4s45K85OS"
      },
      "source": [
        "####################################\n",
        "## Mount Google Drive to CoLab VM ##\n",
        "####################################\n",
        "\n",
        "import os\n",
        "from google.colab import drive  \n",
        "      # Load the Drive helper and mount\n",
        "mountpoint = '/content/drive'\n",
        "if not os.path.isdir(os.path.join(mountpoint, 'My Drive')):\n",
        "  drive.mount(mountpoint, force_remount=True)"
      ],
      "execution_count": null,
      "outputs": []
    },
    {
      "cell_type": "code",
      "metadata": {
        "id": "YMN0pjCHyBVl"
      },
      "source": [
        "#####################################\r\n",
        "## Install aria2 as the downloader ##\r\n",
        "#####################################\r\n",
        "\r\n",
        "## There are notebooks shared all over the internect that uses libtorrent in\r\n",
        "## python, but why bother when you can set up a full function downloader? In\r\n",
        "## this way, you can plug in the aria2 commands just like what you did in your\r\n",
        "## local machine.\r\n",
        "\r\n",
        "! sudo apt install aria2\r\n",
        "! cd /content && aria2c https://raw.githubusercontent.com/ngosang/trackerslist/master/trackers_best_ip.txt -o tracker --allow-overwrite=\"true\" -q"
      ],
      "execution_count": null,
      "outputs": []
    },
    {
      "cell_type": "code",
      "metadata": {
        "id": "iTH0ziAHQfxb"
      },
      "source": [
        "#####################################\r\n",
        "## Enter the link to be downloaded ##\r\n",
        "#####################################\r\n",
        "\r\n",
        "with open(\"/content/download_list\", \"w+\") as f:\r\n",
        "  while True:\r\n",
        "      magnet_link = input(\"Enter Magnet Link Or Type Exit: \")\r\n",
        "      if magnet_link.lower() == \"exit\":\r\n",
        "          break\r\n",
        "      print(magnet_link, end=\"\\n\\n\", file=f)\r\n",
        "\r\n",
        "! cd /content/drive/MyDrive/Downloads/Torrent && aria2c --bt-tracker=$(sed ':a;N;$!ba;s/\\n\\n/,/g' /content/tracker) --bt-enable-lpd=true --disable-ipv6 --seed-time=0 --file-allocation=none --console-log-level=warn -i /content/download_list    "
      ],
      "execution_count": null,
      "outputs": []
    },
    {
      "cell_type": "code",
      "metadata": {
        "id": "pa_Qo4Tr1IxQ"
      },
      "source": [
        "###########################\r\n",
        "## Peek downloaded video ##\r\n",
        "###########################\r\n",
        "\r\n",
        "## The syncing process between CoLab and Google Drive can be time-consuming and\r\n",
        "## you would want to peek into the download file to see if it contains the right\r\n",
        "## content. \r\n",
        "\r\n",
        "from IPython.display import HTML\r\n",
        "from base64 import b64encode\r\n",
        "import os\r\n",
        "\r\n",
        "# Input video path\r\n",
        "save_path = input(\"Enter the path to the file to peek (you can find it in the left penel): \")\r\n",
        "\r\n",
        "# Compressed video path\r\n",
        "compressed_path = \"/content/result_compressed.mp4\"\r\n",
        "\r\n",
        "# It is necessary to extract only a short clip and encod it into mp4 before it\r\n",
        "# can be \r\n",
        "os.system(f\"ffmpeg -i {save_path} -ss 00:00:30 -to 00:01:00 -strict -2 -vcodec libx264 -acodec copy {compressed_path}\")\r\n",
        "print(\"Compression finished\")\r\n",
        "\r\n",
        "# Show video\r\n",
        "print(r\"If no video shown. Please download /content/result_compressed.mp4 \" + \r\n",
        "      \"from the left panel and verify it locally.\")\r\n",
        "mp4 = open(compressed_path,'rb').read()\r\n",
        "data_url = \"data:video/mp4;base64,\" + b64encode(mp4).decode()\r\n",
        "HTML(\"\"\"\r\n",
        "<video width=400 controls>\r\n",
        "      <source src=\"%s\" type=\"video/mp4\">\r\n",
        "</video>\r\n",
        "\"\"\" % data_url)"
      ],
      "execution_count": null,
      "outputs": []
    },
    {
      "cell_type": "code",
      "metadata": {
        "id": "u6hUmoNpm3T5"
      },
      "source": [
        "#######################################\r\n",
        "## Manually sync VM and Google Drive ##\r\n",
        "#######################################\r\n",
        "\r\n",
        "## This is to make sure all modification done in CoLab have been updated to the\r\n",
        "## Google drive. You need to rerun the mounting script before next download.\r\n",
        "\r\n",
        "drive.flush_and_unmount()\r\n",
        "print('All changes made in this colab session should now be visible in Drive.')\r\n",
        "drive.mount(mountpoint, force_remount=True)"
      ],
      "execution_count": null,
      "outputs": []
    },
    {
      "cell_type": "code",
      "metadata": {
        "id": "7gLwDhvlXIt-"
      },
      "source": [
        "####################\r\n",
        "## Setting up RPC ##\r\n",
        "####################\r\n",
        "\r\n",
        "# For more complex download tasks like transfering data drom Onedrive to Google\r\n",
        "# drive, It is recommended to use the RPC deamon and ariang web UI which make\r\n",
        "# configuration a lot easier.\r\n",
        "\r\n",
        "os.system(f\"aria2c --enable-rpc --rpc-listen-all -d /content/drive/MyDrive/Downloads/ --disable-ipv6 --rpc-secret={password} --max-concurrent-downloads=10 --max-connection-per-server=10 --min-split-size=10M --split=5  --bt-tracker=$(sed ':a;N;$!ba;s/\\n\\n/,/g' /content/tracker) --bt-enable-lpd=true --rpc-allow-origin-all --file-allocation=none --seed-time=300 -D\")\r\n",
        "print(\"Please connect to the VM through the following command:\")\r\n",
        "print(f'ssh \"{host}\" -p \"{port}\" -L 8080:localhost:80 -L 6800:localhost:6800 -l \"root\"')\r\n",
        "print(f'Root password: {password}')"
      ],
      "execution_count": null,
      "outputs": []
    }
  ]
}